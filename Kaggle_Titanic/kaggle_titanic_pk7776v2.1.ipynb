{
 "cells": [
  {
   "cell_type": "markdown",
   "id": "59077620",
   "metadata": {},
   "source": [
    "# <span style=\"color: Orange\"> Kaggle Competition - Titanic Survival Prediction  </span>\n",
    "### <span style=\"color: Orange\"> Praveen Karthik Arumugam </span>\n",
    "### <span style=\"color: Orange\"> www.linkedin.com/in/pk7779 </span>\n"
   ]
  },
  {
   "cell_type": "markdown",
   "id": "7aed0250",
   "metadata": {},
   "source": [
    "#### Importing the training data and necessary libraries"
   ]
  },
  {
   "cell_type": "code",
   "execution_count": 1,
   "id": "6f139c37",
   "metadata": {},
   "outputs": [
    {
     "data": {
      "text/plain": [
       "Pclass      0\n",
       "Age       177\n",
       "SibSp       0\n",
       "Parch       0\n",
       "Sex         0\n",
       "dtype: int64"
      ]
     },
     "execution_count": 1,
     "metadata": {},
     "output_type": "execute_result"
    }
   ],
   "source": [
    "import pandas as pd\n",
    "import numpy as np\n",
    "import seaborn as sb\n",
    "import sklearn as sk\n",
    "import matplotlib as mp\n",
    "import warnings\n",
    "from sklearn.exceptions import DataConversionWarning\n",
    "warnings.filterwarnings(\"ignore\", category=DataConversionWarning)\n",
    "# suppresses both the warning and the error.\n",
    "pd.set_option(\"mode.chained_assignment\", None)\n",
    "\n",
    "titanic_train=pd.read_csv(\"../input/train.csv\")\n",
    "titanic_train.describe()\n",
    "titanic_train.dtypes\n",
    "titanic_train[['Pclass','Age','SibSp','Parch','Sex']].isnull().sum()"
   ]
  },
  {
   "cell_type": "markdown",
   "id": "d1c4ef7d",
   "metadata": {},
   "source": [
    " ###  <span style=\"color: Orange\"> Data Cleaning</span>"
   ]
  },
  {
   "cell_type": "markdown",
   "id": "71e7a29e",
   "metadata": {},
   "source": [
    "### <span style=\"color: Orange\"> Filling the NaN null values for the feature 'Age' with its mean value and also verifying no NaN values present in the other independent variables"
   ]
  },
  {
   "cell_type": "code",
   "execution_count": 2,
   "id": "3c83f2c2",
   "metadata": {},
   "outputs": [
    {
     "data": {
      "text/plain": [
       "PassengerId      0\n",
       "Survived         0\n",
       "Pclass           0\n",
       "Name             0\n",
       "Sex              0\n",
       "Age              0\n",
       "SibSp            0\n",
       "Parch            0\n",
       "Ticket           0\n",
       "Fare             0\n",
       "Cabin          687\n",
       "Embarked         2\n",
       "dtype: int64"
      ]
     },
     "execution_count": 2,
     "metadata": {},
     "output_type": "execute_result"
    },
    {
     "data": {
      "image/png": "[encoded data removed]",
      "text/plain": [
       "<Figure size 640x480 with 1 Axes>"
      ]
     },
     "metadata": {},
     "output_type": "display_data"
    }
   ],
   "source": [
    "titanic_train.describe()\n",
    "titanic_train\n",
    "titanic_train['Age']=titanic_train['Age'].fillna(titanic_train['Age'].mean())\n",
    "sb.histplot(titanic_train['Age'],kde=True)\n",
    "titanic_train.isnull().sum()\n"
   ]
  },
  {
   "cell_type": "markdown",
   "id": "5ad5a729",
   "metadata": {},
   "source": [
    "## <span style=\"color: Orange\"> Feature Engineering "
   ]
  },
  {
   "cell_type": "markdown",
   "id": "838cc625",
   "metadata": {},
   "source": [
    "### <span style=\"color: Orange\">Converting Categorical Class values in \"Sex\" in Feature into Binary and added as a classification as this is one of the important feature used to predict"
   ]
  },
  {
   "cell_type": "code",
   "execution_count": 3,
   "id": "b4e7f96e",
   "metadata": {},
   "outputs": [
    {
     "data": {
      "text/html": [
       "<div>\n",
       "<style scoped>\n",
       "    .dataframe tbody tr th:only-of-type {\n",
       "        vertical-align: middle;\n",
       "    }\n",
       "\n",
       "    .dataframe tbody tr th {\n",
       "        vertical-align: top;\n",
       "    }\n",
       "\n",
       "    .dataframe thead th {\n",
       "        text-align: right;\n",
       "    }\n",
       "</style>\n",
       "<table border=\"1\" class=\"dataframe\">\n",
       "  <thead>\n",
       "    <tr style=\"text-align: right;\">\n",
       "      <th></th>\n",
       "      <th>PassengerId</th>\n",
       "      <th>Survived</th>\n",
       "      <th>Pclass</th>\n",
       "      <th>Name</th>\n",
       "      <th>Sex</th>\n",
       "      <th>Age</th>\n",
       "      <th>SibSp</th>\n",
       "      <th>Parch</th>\n",
       "      <th>Ticket</th>\n",
       "      <th>Fare</th>\n",
       "      <th>Cabin</th>\n",
       "      <th>Embarked</th>\n",
       "      <th>sex_n</th>\n",
       "    </tr>\n",
       "  </thead>\n",
       "  <tbody>\n",
       "    <tr>\n",
       "      <th>0</th>\n",
       "      <td>1</td>\n",
       "      <td>0</td>\n",
       "      <td>3</td>\n",
       "      <td>Braund, Mr. Owen Harris</td>\n",
       "      <td>male</td>\n",
       "      <td>22.000000</td>\n",
       "      <td>1</td>\n",
       "      <td>0</td>\n",
       "      <td>A/5 21171</td>\n",
       "      <td>7.2500</td>\n",
       "      <td>NaN</td>\n",
       "      <td>S</td>\n",
       "      <td>1</td>\n",
       "    </tr>\n",
       "    <tr>\n",
       "      <th>1</th>\n",
       "      <td>2</td>\n",
       "      <td>1</td>\n",
       "      <td>1</td>\n",
       "      <td>Cumings, Mrs. John Bradley (Florence Briggs Th...</td>\n",
       "      <td>female</td>\n",
       "      <td>38.000000</td>\n",
       "      <td>1</td>\n",
       "      <td>0</td>\n",
       "      <td>PC 17599</td>\n",
       "      <td>71.2833</td>\n",
       "      <td>C85</td>\n",
       "      <td>C</td>\n",
       "      <td>0</td>\n",
       "    </tr>\n",
       "    <tr>\n",
       "      <th>2</th>\n",
       "      <td>3</td>\n",
       "      <td>1</td>\n",
       "      <td>3</td>\n",
       "      <td>Heikkinen, Miss. Laina</td>\n",
       "      <td>female</td>\n",
       "      <td>26.000000</td>\n",
       "      <td>0</td>\n",
       "      <td>0</td>\n",
       "      <td>STON/O2. 3101282</td>\n",
       "      <td>7.9250</td>\n",
       "      <td>NaN</td>\n",
       "      <td>S</td>\n",
       "      <td>0</td>\n",
       "    </tr>\n",
       "    <tr>\n",
       "      <th>3</th>\n",
       "      <td>4</td>\n",
       "      <td>1</td>\n",
       "      <td>1</td>\n",
       "      <td>Futrelle, Mrs. Jacques Heath (Lily May Peel)</td>\n",
       "      <td>female</td>\n",
       "      <td>35.000000</td>\n",
       "      <td>1</td>\n",
       "      <td>0</td>\n",
       "      <td>113803</td>\n",
       "      <td>53.1000</td>\n",
       "      <td>C123</td>\n",
       "      <td>S</td>\n",
       "      <td>0</td>\n",
       "    </tr>\n",
       "    <tr>\n",
       "      <th>4</th>\n",
       "      <td>5</td>\n",
       "      <td>0</td>\n",
       "      <td>3</td>\n",
       "      <td>Allen, Mr. William Henry</td>\n",
       "      <td>male</td>\n",
       "      <td>35.000000</td>\n",
       "      <td>0</td>\n",
       "      <td>0</td>\n",
       "      <td>373450</td>\n",
       "      <td>8.0500</td>\n",
       "      <td>NaN</td>\n",
       "      <td>S</td>\n",
       "      <td>1</td>\n",
       "    </tr>\n",
       "    <tr>\n",
       "      <th>...</th>\n",
       "      <td>...</td>\n",
       "      <td>...</td>\n",
       "      <td>...</td>\n",
       "      <td>...</td>\n",
       "      <td>...</td>\n",
       "      <td>...</td>\n",
       "      <td>...</td>\n",
       "      <td>...</td>\n",
       "      <td>...</td>\n",
       "      <td>...</td>\n",
       "      <td>...</td>\n",
       "      <td>...</td>\n",
       "      <td>...</td>\n",
       "    </tr>\n",
       "    <tr>\n",
       "      <th>886</th>\n",
       "      <td>887</td>\n",
       "      <td>0</td>\n",
       "      <td>2</td>\n",
       "      <td>Montvila, Rev. Juozas</td>\n",
       "      <td>male</td>\n",
       "      <td>27.000000</td>\n",
       "      <td>0</td>\n",
       "      <td>0</td>\n",
       "      <td>211536</td>\n",
       "      <td>13.0000</td>\n",
       "      <td>NaN</td>\n",
       "      <td>S</td>\n",
       "      <td>1</td>\n",
       "    </tr>\n",
       "    <tr>\n",
       "      <th>887</th>\n",
       "      <td>888</td>\n",
       "      <td>1</td>\n",
       "      <td>1</td>\n",
       "      <td>Graham, Miss. Margaret Edith</td>\n",
       "      <td>female</td>\n",
       "      <td>19.000000</td>\n",
       "      <td>0</td>\n",
       "      <td>0</td>\n",
       "      <td>112053</td>\n",
       "      <td>30.0000</td>\n",
       "      <td>B42</td>\n",
       "      <td>S</td>\n",
       "      <td>0</td>\n",
       "    </tr>\n",
       "    <tr>\n",
       "      <th>888</th>\n",
       "      <td>889</td>\n",
       "      <td>0</td>\n",
       "      <td>3</td>\n",
       "      <td>Johnston, Miss. Catherine Helen \"Carrie\"</td>\n",
       "      <td>female</td>\n",
       "      <td>29.699118</td>\n",
       "      <td>1</td>\n",
       "      <td>2</td>\n",
       "      <td>W./C. 6607</td>\n",
       "      <td>23.4500</td>\n",
       "      <td>NaN</td>\n",
       "      <td>S</td>\n",
       "      <td>0</td>\n",
       "    </tr>\n",
       "    <tr>\n",
       "      <th>889</th>\n",
       "      <td>890</td>\n",
       "      <td>1</td>\n",
       "      <td>1</td>\n",
       "      <td>Behr, Mr. Karl Howell</td>\n",
       "      <td>male</td>\n",
       "      <td>26.000000</td>\n",
       "      <td>0</td>\n",
       "      <td>0</td>\n",
       "      <td>111369</td>\n",
       "      <td>30.0000</td>\n",
       "      <td>C148</td>\n",
       "      <td>C</td>\n",
       "      <td>1</td>\n",
       "    </tr>\n",
       "    <tr>\n",
       "      <th>890</th>\n",
       "      <td>891</td>\n",
       "      <td>0</td>\n",
       "      <td>3</td>\n",
       "      <td>Dooley, Mr. Patrick</td>\n",
       "      <td>male</td>\n",
       "      <td>32.000000</td>\n",
       "      <td>0</td>\n",
       "      <td>0</td>\n",
       "      <td>370376</td>\n",
       "      <td>7.7500</td>\n",
       "      <td>NaN</td>\n",
       "      <td>Q</td>\n",
       "      <td>1</td>\n",
       "    </tr>\n",
       "  </tbody>\n",
       "</table>\n",
       "<p>891 rows × 13 columns</p>\n",
       "</div>"
      ],
      "text/plain": [
       "     PassengerId  Survived  Pclass  \\\n",
       "0              1         0       3   \n",
       "1              2         1       1   \n",
       "2              3         1       3   \n",
       "3              4         1       1   \n",
       "4              5         0       3   \n",
       "..           ...       ...     ...   \n",
       "886          887         0       2   \n",
       "887          888         1       1   \n",
       "888          889         0       3   \n",
       "889          890         1       1   \n",
       "890          891         0       3   \n",
       "\n",
       "                                                  Name     Sex        Age  \\\n",
       "0                              Braund, Mr. Owen Harris    male  22.000000   \n",
       "1    Cumings, Mrs. John Bradley (Florence Briggs Th...  female  38.000000   \n",
       "2                               Heikkinen, Miss. Laina  female  26.000000   \n",
       "3         Futrelle, Mrs. Jacques Heath (Lily May Peel)  female  35.000000   \n",
       "4                             Allen, Mr. William Henry    male  35.000000   \n",
       "..                                                 ...     ...        ...   \n",
       "886                              Montvila, Rev. Juozas    male  27.000000   \n",
       "887                       Graham, Miss. Margaret Edith  female  19.000000   \n",
       "888           Johnston, Miss. Catherine Helen \"Carrie\"  female  29.699118   \n",
       "889                              Behr, Mr. Karl Howell    male  26.000000   \n",
       "890                                Dooley, Mr. Patrick    male  32.000000   \n",
       "\n",
       "     SibSp  Parch            Ticket     Fare Cabin Embarked  sex_n  \n",
       "0        1      0         A/5 21171   7.2500   NaN        S      1  \n",
       "1        1      0          PC 17599  71.2833   C85        C      0  \n",
       "2        0      0  STON/O2. 3101282   7.9250   NaN        S      0  \n",
       "3        1      0            113803  53.1000  C123        S      0  \n",
       "4        0      0            373450   8.0500   NaN        S      1  \n",
       "..     ...    ...               ...      ...   ...      ...    ...  \n",
       "886      0      0            211536  13.0000   NaN        S      1  \n",
       "887      0      0            112053  30.0000   B42        S      0  \n",
       "888      1      2        W./C. 6607  23.4500   NaN        S      0  \n",
       "889      0      0            111369  30.0000  C148        C      1  \n",
       "890      0      0            370376   7.7500   NaN        Q      1  \n",
       "\n",
       "[891 rows x 13 columns]"
      ]
     },
     "execution_count": 3,
     "metadata": {},
     "output_type": "execute_result"
    }
   ],
   "source": [
    "from sklearn.preprocessing import LabelEncoder\n",
    "le = LabelEncoder()\n",
    "sex_n=le.fit_transform(titanic_train['Sex'])\n",
    "titanic_train['sex_n']=sex_n\n",
    "titanic_train"
   ]
  },
  {
   "cell_type": "code",
   "execution_count": 4,
   "id": "ad43a028",
   "metadata": {
    "scrolled": false
   },
   "outputs": [
    {
     "data": {
      "text/plain": [
       "((891, 6), (891, 1))"
      ]
     },
     "execution_count": 4,
     "metadata": {},
     "output_type": "execute_result"
    }
   ],
   "source": [
    "titanic_train_source=titanic_train[['Pclass','Age','SibSp','Parch','sex_n','Fare']]\n",
    "titanic_train_target=titanic_train[['Survived']]\n",
    "titanic_train_source.shape, titanic_train_target.shape\n"
   ]
  },
  {
   "cell_type": "code",
   "execution_count": 5,
   "id": "d189d765",
   "metadata": {},
   "outputs": [
    {
     "data": {
      "text/html": [
       "<div>\n",
       "<style scoped>\n",
       "    .dataframe tbody tr th:only-of-type {\n",
       "        vertical-align: middle;\n",
       "    }\n",
       "\n",
       "    .dataframe tbody tr th {\n",
       "        vertical-align: top;\n",
       "    }\n",
       "\n",
       "    .dataframe thead th {\n",
       "        text-align: right;\n",
       "    }\n",
       "</style>\n",
       "<table border=\"1\" class=\"dataframe\">\n",
       "  <thead>\n",
       "    <tr style=\"text-align: right;\">\n",
       "      <th></th>\n",
       "      <th>Scores</th>\n",
       "      <th>Features</th>\n",
       "    </tr>\n",
       "  </thead>\n",
       "  <tbody>\n",
       "    <tr>\n",
       "      <th>5</th>\n",
       "      <td>4518.319091</td>\n",
       "      <td>Fare</td>\n",
       "    </tr>\n",
       "    <tr>\n",
       "      <th>4</th>\n",
       "      <td>92.702447</td>\n",
       "      <td>sex_n</td>\n",
       "    </tr>\n",
       "    <tr>\n",
       "      <th>0</th>\n",
       "      <td>30.873699</td>\n",
       "      <td>Pclass</td>\n",
       "    </tr>\n",
       "    <tr>\n",
       "      <th>1</th>\n",
       "      <td>24.687926</td>\n",
       "      <td>Age</td>\n",
       "    </tr>\n",
       "    <tr>\n",
       "      <th>3</th>\n",
       "      <td>10.097499</td>\n",
       "      <td>Parch</td>\n",
       "    </tr>\n",
       "    <tr>\n",
       "      <th>2</th>\n",
       "      <td>2.581865</td>\n",
       "      <td>SibSp</td>\n",
       "    </tr>\n",
       "  </tbody>\n",
       "</table>\n",
       "</div>"
      ],
      "text/plain": [
       "        Scores Features\n",
       "5  4518.319091     Fare\n",
       "4    92.702447    sex_n\n",
       "0    30.873699   Pclass\n",
       "1    24.687926      Age\n",
       "3    10.097499    Parch\n",
       "2     2.581865    SibSp"
      ]
     },
     "execution_count": 5,
     "metadata": {},
     "output_type": "execute_result"
    }
   ],
   "source": [
    "# sb.heatmap(titanic_train_source.corr(),annot=True)\n",
    "from sklearn.feature_selection import SelectKBest\n",
    "from sklearn.feature_selection import chi2\n",
    "top_features=SelectKBest(score_func=chi2, k=2)\n",
    "top_features.fit(titanic_train_source,titanic_train_target)\n",
    "top_features.scores_\n",
    "\n",
    "# titanic_train_source.columns\n",
    "x=pd.DataFrame(top_features.scores_, columns=['Scores'])\n",
    "y=pd.DataFrame(titanic_train_source.columns, columns=['Features'])\n",
    "y,x\n",
    "\n",
    "titanic_train_source_scores=pd.concat([x,y],axis=1)\n",
    "titanic_train_source_scores.nlargest(10,'Scores')"
   ]
  },
  {
   "cell_type": "markdown",
   "id": "89e4320e",
   "metadata": {},
   "source": [
    "## <span style=\"color: Orange\"> Exploratory Data Analysis"
   ]
  },
  {
   "cell_type": "markdown",
   "id": "88adf2b4",
   "metadata": {},
   "source": [
    "### <span style=\"color: Orange\">Fare - Plotting Histogram to understand the plot is skewed or not"
   ]
  },
  {
   "cell_type": "code",
   "execution_count": 6,
   "id": "8f508ded",
   "metadata": {
    "scrolled": true
   },
   "outputs": [
    {
     "data": {
      "text/plain": [
       "<Axes: xlabel='Fare', ylabel='Count'>"
      ]
     },
     "execution_count": 6,
     "metadata": {},
     "output_type": "execute_result"
    },
    {
     "data": {
      "image/png": "[encoded data removed]",
      "text/plain": [
       "<Figure size 640x480 with 1 Axes>"
      ]
     },
     "metadata": {},
     "output_type": "display_data"
    }
   ],
   "source": [
    "sb.histplot(titanic_train['Fare'],kde=True, color='green')"
   ]
  },
  {
   "cell_type": "code",
   "execution_count": 7,
   "id": "4200e257",
   "metadata": {
    "scrolled": true
   },
   "outputs": [
    {
     "data": {
      "text/plain": [
       "(32.204207968574636, 49.693428597180905, -17.48922062860627, 81.89763656575553)"
      ]
     },
     "execution_count": 7,
     "metadata": {},
     "output_type": "execute_result"
    }
   ],
   "source": [
    "mean_fare=titanic_train['Fare'].mean()\n",
    "\n",
    "sd_fare=titanic_train['Fare'].std()\n",
    "\n",
    "no_of_sd =1\n",
    "minus_sd_fare=mean_fare - (no_of_sd * sd_fare)\n",
    "\n",
    "plus_sd_fare=mean_fare + (no_of_sd * sd_fare)\n",
    "mean_fare, sd_fare, minus_sd_fare , plus_sd_fare\n"
   ]
  },
  {
   "cell_type": "code",
   "execution_count": 8,
   "id": "a806fd45",
   "metadata": {},
   "outputs": [
    {
     "data": {
      "text/plain": [
       "<Axes: xlabel='Fare', ylabel='Count'>"
      ]
     },
     "execution_count": 8,
     "metadata": {},
     "output_type": "execute_result"
    },
    {
     "data": {
      "image/png": "[encoded data removed]",
      "text/plain": [
       "<Figure size 640x480 with 1 Axes>"
      ]
     },
     "metadata": {},
     "output_type": "display_data"
    }
   ],
   "source": [
    "titanic_train_no_outlier=titanic_train[(titanic_train['Fare']>minus_sd_fare) & (titanic_train['Fare']<plus_sd_fare)]\n",
    "titanic_train_no_outlier\n",
    "\n",
    "sb.histplot(titanic_train_no_outlier['Fare'], kde=True, color='green')"
   ]
  },
  {
   "cell_type": "markdown",
   "id": "be79108b",
   "metadata": {},
   "source": [
    "### <span style=\"color: Orange\">Age - Plotting Histogram to understand the plot is skewed or not"
   ]
  },
  {
   "cell_type": "code",
   "execution_count": 9,
   "id": "b2c12b25",
   "metadata": {},
   "outputs": [
    {
     "data": {
      "text/plain": [
       "<Axes: xlabel='Age', ylabel='Count'>"
      ]
     },
     "execution_count": 9,
     "metadata": {},
     "output_type": "execute_result"
    },
    {
     "data": {
      "image/png": "[encoded data removed]",
      "text/plain": [
       "<Figure size 640x480 with 1 Axes>"
      ]
     },
     "metadata": {},
     "output_type": "display_data"
    }
   ],
   "source": [
    "sb.histplot(titanic_train['Age'],kde=True)"
   ]
  },
  {
   "cell_type": "markdown",
   "id": "8f430acc",
   "metadata": {},
   "source": [
    "### <span style=\"color: Orange\"> Using  2*standard deviation to remove the outliers"
   ]
  },
  {
   "cell_type": "code",
   "execution_count": 10,
   "id": "5ba9a331",
   "metadata": {},
   "outputs": [
    {
     "data": {
      "text/plain": [
       "(29.69911764705882, 13.002015226002884, 3.695087195053052, 55.70314809906459)"
      ]
     },
     "execution_count": 10,
     "metadata": {},
     "output_type": "execute_result"
    }
   ],
   "source": [
    "mean_age=titanic_train['Age'].mean()\n",
    "\n",
    "sd_age=titanic_train['Age'].std()\n",
    "\n",
    "no_of_sd =2\n",
    "minus_sd_age=mean_age - (no_of_sd * sd_age)\n",
    "\n",
    "plus_sd_age=mean_age + (no_of_sd * sd_age)\n",
    "mean_age, sd_age, minus_sd_age , plus_sd_age\n"
   ]
  },
  {
   "cell_type": "markdown",
   "id": "4144ac25",
   "metadata": {},
   "source": [
    "### <span style=\"color: Orange\">After removing the outliers, the Histogram plot is done to visualize the removal of the outliers, that also shows the normalization of the bell curve aka gaussian distribution"
   ]
  },
  {
   "cell_type": "code",
   "execution_count": 11,
   "id": "af305984",
   "metadata": {},
   "outputs": [
    {
     "data": {
      "text/plain": [
       "<Axes: xlabel='Age', ylabel='Count'>"
      ]
     },
     "execution_count": 11,
     "metadata": {},
     "output_type": "execute_result"
    },
    {
     "data": {
      "image/png": "[encoded data removed]",
      "text/plain": [
       "<Figure size 640x480 with 1 Axes>"
      ]
     },
     "metadata": {},
     "output_type": "display_data"
    }
   ],
   "source": [
    "titanic_train_no_outlier=titanic_train[(titanic_train['Age']>minus_sd_age) & (titanic_train['Age']<plus_sd_age)]\n",
    "titanic_train_no_outlier\n",
    "\n",
    "sb.histplot(titanic_train_no_outlier['Age'], kde=True, color='maroon')"
   ]
  },
  {
   "cell_type": "code",
   "execution_count": 12,
   "id": "7bc2f810",
   "metadata": {},
   "outputs": [
    {
     "data": {
      "text/html": [
       "<div>\n",
       "<style scoped>\n",
       "    .dataframe tbody tr th:only-of-type {\n",
       "        vertical-align: middle;\n",
       "    }\n",
       "\n",
       "    .dataframe tbody tr th {\n",
       "        vertical-align: top;\n",
       "    }\n",
       "\n",
       "    .dataframe thead th {\n",
       "        text-align: right;\n",
       "    }\n",
       "</style>\n",
       "<table border=\"1\" class=\"dataframe\">\n",
       "  <thead>\n",
       "    <tr style=\"text-align: right;\">\n",
       "      <th></th>\n",
       "      <th>PassengerId</th>\n",
       "      <th>Survived</th>\n",
       "      <th>Pclass</th>\n",
       "      <th>Age</th>\n",
       "      <th>SibSp</th>\n",
       "      <th>Parch</th>\n",
       "      <th>Fare</th>\n",
       "      <th>sex_n</th>\n",
       "    </tr>\n",
       "  </thead>\n",
       "  <tbody>\n",
       "    <tr>\n",
       "      <th>count</th>\n",
       "      <td>822.000000</td>\n",
       "      <td>822.000000</td>\n",
       "      <td>822.000000</td>\n",
       "      <td>822.000000</td>\n",
       "      <td>822.000000</td>\n",
       "      <td>822.000000</td>\n",
       "      <td>822.000000</td>\n",
       "      <td>822.000000</td>\n",
       "    </tr>\n",
       "    <tr>\n",
       "      <th>mean</th>\n",
       "      <td>447.822384</td>\n",
       "      <td>0.377129</td>\n",
       "      <td>2.339416</td>\n",
       "      <td>29.164530</td>\n",
       "      <td>0.496350</td>\n",
       "      <td>0.349148</td>\n",
       "      <td>31.476692</td>\n",
       "      <td>0.643552</td>\n",
       "    </tr>\n",
       "    <tr>\n",
       "      <th>std</th>\n",
       "      <td>257.550861</td>\n",
       "      <td>0.484963</td>\n",
       "      <td>0.826114</td>\n",
       "      <td>10.080463</td>\n",
       "      <td>1.082183</td>\n",
       "      <td>0.794925</td>\n",
       "      <td>50.049376</td>\n",
       "      <td>0.479241</td>\n",
       "    </tr>\n",
       "    <tr>\n",
       "      <th>min</th>\n",
       "      <td>1.000000</td>\n",
       "      <td>0.000000</td>\n",
       "      <td>1.000000</td>\n",
       "      <td>4.000000</td>\n",
       "      <td>0.000000</td>\n",
       "      <td>0.000000</td>\n",
       "      <td>0.000000</td>\n",
       "      <td>0.000000</td>\n",
       "    </tr>\n",
       "    <tr>\n",
       "      <th>25%</th>\n",
       "      <td>225.250000</td>\n",
       "      <td>0.000000</td>\n",
       "      <td>2.000000</td>\n",
       "      <td>23.000000</td>\n",
       "      <td>0.000000</td>\n",
       "      <td>0.000000</td>\n",
       "      <td>7.895800</td>\n",
       "      <td>0.000000</td>\n",
       "    </tr>\n",
       "    <tr>\n",
       "      <th>50%</th>\n",
       "      <td>447.500000</td>\n",
       "      <td>0.000000</td>\n",
       "      <td>3.000000</td>\n",
       "      <td>29.699118</td>\n",
       "      <td>0.000000</td>\n",
       "      <td>0.000000</td>\n",
       "      <td>13.000000</td>\n",
       "      <td>1.000000</td>\n",
       "    </tr>\n",
       "    <tr>\n",
       "      <th>75%</th>\n",
       "      <td>671.750000</td>\n",
       "      <td>1.000000</td>\n",
       "      <td>3.000000</td>\n",
       "      <td>34.000000</td>\n",
       "      <td>1.000000</td>\n",
       "      <td>0.000000</td>\n",
       "      <td>30.053100</td>\n",
       "      <td>1.000000</td>\n",
       "    </tr>\n",
       "    <tr>\n",
       "      <th>max</th>\n",
       "      <td>891.000000</td>\n",
       "      <td>1.000000</td>\n",
       "      <td>3.000000</td>\n",
       "      <td>55.500000</td>\n",
       "      <td>8.000000</td>\n",
       "      <td>6.000000</td>\n",
       "      <td>512.329200</td>\n",
       "      <td>1.000000</td>\n",
       "    </tr>\n",
       "  </tbody>\n",
       "</table>\n",
       "</div>"
      ],
      "text/plain": [
       "       PassengerId    Survived      Pclass         Age       SibSp  \\\n",
       "count   822.000000  822.000000  822.000000  822.000000  822.000000   \n",
       "mean    447.822384    0.377129    2.339416   29.164530    0.496350   \n",
       "std     257.550861    0.484963    0.826114   10.080463    1.082183   \n",
       "min       1.000000    0.000000    1.000000    4.000000    0.000000   \n",
       "25%     225.250000    0.000000    2.000000   23.000000    0.000000   \n",
       "50%     447.500000    0.000000    3.000000   29.699118    0.000000   \n",
       "75%     671.750000    1.000000    3.000000   34.000000    1.000000   \n",
       "max     891.000000    1.000000    3.000000   55.500000    8.000000   \n",
       "\n",
       "            Parch        Fare       sex_n  \n",
       "count  822.000000  822.000000  822.000000  \n",
       "mean     0.349148   31.476692    0.643552  \n",
       "std      0.794925   50.049376    0.479241  \n",
       "min      0.000000    0.000000    0.000000  \n",
       "25%      0.000000    7.895800    0.000000  \n",
       "50%      0.000000   13.000000    1.000000  \n",
       "75%      0.000000   30.053100    1.000000  \n",
       "max      6.000000  512.329200    1.000000  "
      ]
     },
     "execution_count": 12,
     "metadata": {},
     "output_type": "execute_result"
    }
   ],
   "source": [
    "titanic_train_no_outlier.describe()"
   ]
  },
  {
   "cell_type": "markdown",
   "id": "0f23635b",
   "metadata": {},
   "source": [
    "## <span style=\"color: Orange\"> Prediction"
   ]
  },
  {
   "cell_type": "markdown",
   "id": "cc70b39b",
   "metadata": {},
   "source": [
    "### <span style=\"color: Orange\"> Test Data - Performing Labelencoding for Feature 'Sex' and creating the a new data frame matching the feature list of the training dataframe </span>"
   ]
  },
  {
   "cell_type": "code",
   "execution_count": 13,
   "id": "451bca0a",
   "metadata": {},
   "outputs": [
    {
     "data": {
      "text/plain": [
       "((332, 6), (332, 1))"
      ]
     },
     "execution_count": 13,
     "metadata": {},
     "output_type": "execute_result"
    }
   ],
   "source": [
    "titanic_test=pd.read_csv(\"../input/test.csv\")\n",
    "from sklearn.preprocessing import LabelEncoder\n",
    "lb_test=LabelEncoder()\n",
    "sex_n_test=lb_test.fit_transform(titanic_test['Sex'])\n",
    "sex_n_test\n",
    "titanic_test['sex_n']=sex_n_test\n",
    "titanic_test\n",
    "titanic_test=titanic_test.dropna(subset=['Pclass','Age','Sex'])\n",
    "titanic_test['Survived']=0\n",
    "titanic_test_target=titanic_test[['Survived']]\n",
    "titanic_test_source=titanic_test[['Pclass','Age','SibSp','Parch','sex_n','Fare']]\n",
    "titanic_test_source.shape,titanic_test_target.shape"
   ]
  },
  {
   "cell_type": "markdown",
   "id": "8998fe03",
   "metadata": {},
   "source": [
    "### <span style=\"color: Orange\"> Created a reusable function to create models using different classifcation algorithms and to predict the score of the train/test data for all the algorithms and compare the same   </span>"
   ]
  },
  {
   "cell_type": "code",
   "execution_count": 14,
   "id": "17faee5e",
   "metadata": {},
   "outputs": [],
   "source": [
    "def getModel(sourceFeature, targetFeature, datasetToPredict):\n",
    "    from sklearn.linear_model import LinearRegression\n",
    "    from sklearn.linear_model import LogisticRegression\n",
    "    from sklearn.tree import DecisionTreeClassifier\n",
    "    from sklearn.ensemble import RandomForestClassifier\n",
    "    from sklearn.ensemble import AdaBoostClassifier\n",
    "    from sklearn.ensemble import GradientBoostingClassifier\n",
    "    \n",
    "    logReg= LogisticRegression()\n",
    "    dtc = DecisionTreeClassifier()\n",
    "    rfc = RandomForestClassifier()\n",
    "    abc = AdaBoostClassifier()\n",
    "    gbc = GradientBoostingClassifier()\n",
    "\n",
    "    models = {\n",
    "        'lor':logReg,\n",
    "        'dt':dtc,\n",
    "        'rf':rfc,\n",
    "        'ab':abc,\n",
    "        'gb':gbc\n",
    "\n",
    "    }\n",
    "#     trained_model_final\n",
    "    for x in models:\n",
    "            print(models[x] , \"Score :: \")\n",
    "            trained_model=models[x].fit(sourceFeature,targetFeature)\n",
    "            print(trained_model.score(sourceFeature,targetFeature))\n",
    "            prediction=trained_model.predict(datasetToPredict)\n",
    "#             print(prediction)\n"
   ]
  },
  {
   "cell_type": "code",
   "execution_count": 15,
   "id": "6f26e1f5",
   "metadata": {
    "scrolled": false
   },
   "outputs": [
    {
     "data": {
      "text/plain": [
       "Pclass    0\n",
       "Age       0\n",
       "SibSp     0\n",
       "Parch     0\n",
       "sex_n     0\n",
       "Fare      0\n",
       "dtype: int64"
      ]
     },
     "execution_count": 15,
     "metadata": {},
     "output_type": "execute_result"
    }
   ],
   "source": [
    "fare_mean=titanic_test_source['Fare'].mean()\n",
    "titanic_test_source['Fare']=titanic_test_source['Fare'].fillna(fare_mean)\n",
    "# titanic_test_source['Fare']=iloc[:,0:titanic_test_source['Fare'].fillna(fare_mean)]\n",
    "\n",
    "titanic_test_source['Fare'].isna().sum()\n",
    "titanic_test_source.isna().sum()\n",
    "# fare_mean"
   ]
  },
  {
   "cell_type": "markdown",
   "id": "4983ecdf",
   "metadata": {},
   "source": [
    "### <span style=\"color: Orange\"> Getting score using the training data set </span>"
   ]
  },
  {
   "cell_type": "code",
   "execution_count": 16,
   "id": "789968e9",
   "metadata": {},
   "outputs": [
    {
     "name": "stdout",
     "output_type": "stream",
     "text": [
      "LogisticRegression() Score :: \n",
      "0.797979797979798\n",
      "DecisionTreeClassifier() Score :: \n",
      "0.9820426487093153\n",
      "RandomForestClassifier() Score :: \n",
      "0.9820426487093153\n",
      "AdaBoostClassifier() Score :: \n",
      "0.8383838383838383\n",
      "GradientBoostingClassifier() Score :: \n",
      "0.9057239057239057\n"
     ]
    }
   ],
   "source": [
    "getModel(titanic_train_source,titanic_train_target, titanic_train_source)"
   ]
  },
  {
   "cell_type": "code",
   "execution_count": 17,
   "id": "8ce1d25e",
   "metadata": {},
   "outputs": [
    {
     "data": {
      "text/html": [
       "<div>\n",
       "<style scoped>\n",
       "    .dataframe tbody tr th:only-of-type {\n",
       "        vertical-align: middle;\n",
       "    }\n",
       "\n",
       "    .dataframe tbody tr th {\n",
       "        vertical-align: top;\n",
       "    }\n",
       "\n",
       "    .dataframe thead th {\n",
       "        text-align: right;\n",
       "    }\n",
       "</style>\n",
       "<table border=\"1\" class=\"dataframe\">\n",
       "  <thead>\n",
       "    <tr style=\"text-align: right;\">\n",
       "      <th></th>\n",
       "      <th>Survived</th>\n",
       "    </tr>\n",
       "  </thead>\n",
       "  <tbody>\n",
       "    <tr>\n",
       "      <th>0</th>\n",
       "      <td>0</td>\n",
       "    </tr>\n",
       "    <tr>\n",
       "      <th>1</th>\n",
       "      <td>0</td>\n",
       "    </tr>\n",
       "    <tr>\n",
       "      <th>2</th>\n",
       "      <td>0</td>\n",
       "    </tr>\n",
       "    <tr>\n",
       "      <th>3</th>\n",
       "      <td>0</td>\n",
       "    </tr>\n",
       "    <tr>\n",
       "      <th>4</th>\n",
       "      <td>0</td>\n",
       "    </tr>\n",
       "    <tr>\n",
       "      <th>...</th>\n",
       "      <td>...</td>\n",
       "    </tr>\n",
       "    <tr>\n",
       "      <th>409</th>\n",
       "      <td>0</td>\n",
       "    </tr>\n",
       "    <tr>\n",
       "      <th>411</th>\n",
       "      <td>0</td>\n",
       "    </tr>\n",
       "    <tr>\n",
       "      <th>412</th>\n",
       "      <td>0</td>\n",
       "    </tr>\n",
       "    <tr>\n",
       "      <th>414</th>\n",
       "      <td>0</td>\n",
       "    </tr>\n",
       "    <tr>\n",
       "      <th>415</th>\n",
       "      <td>0</td>\n",
       "    </tr>\n",
       "  </tbody>\n",
       "</table>\n",
       "<p>332 rows × 1 columns</p>\n",
       "</div>"
      ],
      "text/plain": [
       "     Survived\n",
       "0           0\n",
       "1           0\n",
       "2           0\n",
       "3           0\n",
       "4           0\n",
       "..        ...\n",
       "409         0\n",
       "411         0\n",
       "412         0\n",
       "414         0\n",
       "415         0\n",
       "\n",
       "[332 rows x 1 columns]"
      ]
     },
     "execution_count": 17,
     "metadata": {},
     "output_type": "execute_result"
    }
   ],
   "source": [
    "titanic_test_target"
   ]
  },
  {
   "cell_type": "code",
   "execution_count": 18,
   "id": "cc587fd3",
   "metadata": {
    "scrolled": false
   },
   "outputs": [
    {
     "data": {
      "text/plain": [
       "((891, 6), (332, 6))"
      ]
     },
     "execution_count": 18,
     "metadata": {},
     "output_type": "execute_result"
    }
   ],
   "source": [
    "\n",
    "titanic_train_source.shape, titanic_test_source.shape\n"
   ]
  },
  {
   "cell_type": "markdown",
   "id": "1fbc5298",
   "metadata": {},
   "source": [
    "### <span style=\"color: Orange\"> Getting the score for test data set for comparison </span>"
   ]
  },
  {
   "cell_type": "code",
   "execution_count": 19,
   "id": "7c1a7b65",
   "metadata": {
    "scrolled": true
   },
   "outputs": [
    {
     "name": "stdout",
     "output_type": "stream",
     "text": [
      "LogisticRegression() Score :: \n",
      "0.797979797979798\n",
      "DecisionTreeClassifier() Score :: \n",
      "0.9820426487093153\n",
      "RandomForestClassifier() Score :: \n",
      "0.9820426487093153\n",
      "AdaBoostClassifier() Score :: \n",
      "0.8383838383838383\n",
      "GradientBoostingClassifier() Score :: \n",
      "0.9057239057239057\n"
     ]
    }
   ],
   "source": [
    "getModel(titanic_train_source,titanic_train_target, titanic_test_source)"
   ]
  }
 ],
 "metadata": {
  "kernelspec": {
   "display_name": "Python 3 (ipykernel)",
   "language": "python",
   "name": "python3"
  },
  "language_info": {
   "codemirror_mode": {
    "name": "ipython",
    "version": 3
   },
   "file_extension": ".py",
   "mimetype": "text/x-python",
   "name": "python",
   "nbconvert_exporter": "python",
   "pygments_lexer": "ipython3",
   "version": "3.10.9"
  }
 },
 "nbformat": 4,
 "nbformat_minor": 5
}
